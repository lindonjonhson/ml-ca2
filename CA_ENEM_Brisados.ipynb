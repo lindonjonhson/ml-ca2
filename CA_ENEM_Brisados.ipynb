{
 "cells": [
  {
   "cell_type": "markdown",
   "id": "dab87ab4",
   "metadata": {},
   "source": [
    "\n",
    "<img src=\"https://www.virtualeducationexpo.ie/wp-content/uploads/2020/08/CCT_Logo_New_Aug_17.jpg\" width=\"400\">\n",
    "\n",
    "# <center> *CA - Machine Learning for Business* <center>\n",
    "\n",
    "## <center>Lecturer: Dr. Muhammad Iqbal  <center>\n",
    "\n",
    "## <center>Students: Larcio Lima ID: 2022055 <center>\n",
    "## <center> Lindon Soares ID 20220..<center>\n",
    "## <center> Marilia Meneses da Silva ID 2022048 <center>\n",
    "## <center> Raphael Fernandes ID 2022091 <center>\n",
    "\n",
    "### <center>*ENEM Data Set*<center>\n",
    "    \n",
    " "
   ]
  },
  {
   "cell_type": "markdown",
   "id": "27a0b829",
   "metadata": {},
   "source": [
    "## Table of content"
   ]
  },
  {
   "attachments": {},
   "cell_type": "markdown",
   "id": "91d1731b",
   "metadata": {},
   "source": [
    "## Introduction"
   ]
  },
  {
   "attachments": {},
   "cell_type": "markdown",
   "id": "f6a68287",
   "metadata": {},
   "source": [
    "## Business Understanding"
   ]
  },
  {
   "cell_type": "markdown",
   "id": "07a2b486",
   "metadata": {},
   "source": [
    "## Data Understanding"
   ]
  },
  {
   "cell_type": "code",
   "execution_count": 1,
   "id": "253034c2",
   "metadata": {},
   "outputs": [],
   "source": [
    "# Importing the libraries \n",
    "import pandas as pd\n",
    "import seaborn as sns\n",
    "import matplotlib.pyplot as plt\n",
    "import numpy as np\n",
    "import statistics\n",
    "from sklearn.metrics import mean_squared_error, r2_score\n",
    "import random\n",
    "import math\n",
    "\n",
    "import warnings\n",
    "warnings.filterwarnings('ignore') # We can suppress the warnings"
   ]
  },
  {
   "cell_type": "code",
   "execution_count": 2,
   "id": "3912b1f3",
   "metadata": {},
   "outputs": [
    {
     "data": {
      "text/html": [
       "<div>\n",
       "<style scoped>\n",
       "    .dataframe tbody tr th:only-of-type {\n",
       "        vertical-align: middle;\n",
       "    }\n",
       "\n",
       "    .dataframe tbody tr th {\n",
       "        vertical-align: top;\n",
       "    }\n",
       "\n",
       "    .dataframe thead th {\n",
       "        text-align: right;\n",
       "    }\n",
       "</style>\n",
       "<table border=\"1\" class=\"dataframe\">\n",
       "  <thead>\n",
       "    <tr style=\"text-align: right;\">\n",
       "      <th></th>\n",
       "      <th>rank</th>\n",
       "      <th>inep_code</th>\n",
       "      <th>school</th>\n",
       "      <th>state</th>\n",
       "      <th>city</th>\n",
       "      <th>school_type</th>\n",
       "      <th>location</th>\n",
       "      <th>students</th>\n",
       "      <th>ch</th>\n",
       "      <th>cn</th>\n",
       "      <th>lc</th>\n",
       "      <th>mt</th>\n",
       "      <th>rd</th>\n",
       "      <th>average_exam</th>\n",
       "    </tr>\n",
       "  </thead>\n",
       "  <tbody>\n",
       "    <tr>\n",
       "      <th>0</th>\n",
       "      <td>1</td>\n",
       "      <td>23246847</td>\n",
       "      <td>FARIAS BRITO COLEGIO DE APLICACAO</td>\n",
       "      <td>Ceará</td>\n",
       "      <td>Fortaleza</td>\n",
       "      <td>Privada</td>\n",
       "      <td>Urbana</td>\n",
       "      <td>35</td>\n",
       "      <td>692.85</td>\n",
       "      <td>674.50</td>\n",
       "      <td>652.24</td>\n",
       "      <td>845.89</td>\n",
       "      <td>935.43</td>\n",
       "      <td>760.18</td>\n",
       "    </tr>\n",
       "    <tr>\n",
       "      <th>1</th>\n",
       "      <td>2</td>\n",
       "      <td>23246871</td>\n",
       "      <td>ARI DE SA CAVALCANTE SEDE MARIO MAMEDE COLEGIO</td>\n",
       "      <td>Ceará</td>\n",
       "      <td>Fortaleza</td>\n",
       "      <td>Privada</td>\n",
       "      <td>Urbana</td>\n",
       "      <td>33</td>\n",
       "      <td>695.67</td>\n",
       "      <td>676.34</td>\n",
       "      <td>652.91</td>\n",
       "      <td>836.65</td>\n",
       "      <td>915.15</td>\n",
       "      <td>755.34</td>\n",
       "    </tr>\n",
       "    <tr>\n",
       "      <th>2</th>\n",
       "      <td>3</td>\n",
       "      <td>31350664</td>\n",
       "      <td>COLEGIO BERNOULLI</td>\n",
       "      <td>Minas Gerais</td>\n",
       "      <td>Belo Horizonte</td>\n",
       "      <td>Privada</td>\n",
       "      <td>Urbana</td>\n",
       "      <td>280</td>\n",
       "      <td>681.58</td>\n",
       "      <td>668.20</td>\n",
       "      <td>634.47</td>\n",
       "      <td>823.80</td>\n",
       "      <td>906.64</td>\n",
       "      <td>742.94</td>\n",
       "    </tr>\n",
       "  </tbody>\n",
       "</table>\n",
       "</div>"
      ],
      "text/plain": [
       "   rank  inep_code                                          school  \\\n",
       "0     1   23246847               FARIAS BRITO COLEGIO DE APLICACAO   \n",
       "1     2   23246871  ARI DE SA CAVALCANTE SEDE MARIO MAMEDE COLEGIO   \n",
       "2     3   31350664                               COLEGIO BERNOULLI   \n",
       "\n",
       "          state            city school_type location  students      ch  \\\n",
       "0         Ceará       Fortaleza     Privada   Urbana        35  692.85   \n",
       "1         Ceará       Fortaleza     Privada   Urbana        33  695.67   \n",
       "2  Minas Gerais  Belo Horizonte     Privada   Urbana       280  681.58   \n",
       "\n",
       "       cn      lc      mt      rd  average_exam  \n",
       "0  674.50  652.24  845.89  935.43        760.18  \n",
       "1  676.34  652.91  836.65  915.15        755.34  \n",
       "2  668.20  634.47  823.80  906.64        742.94  "
      ]
     },
     "execution_count": 2,
     "metadata": {},
     "output_type": "execute_result"
    }
   ],
   "source": [
    "# Reading the dataset\n",
    "enem = pd.read_csv(\"enem_complete.csv\")\n",
    "enem.head(3)"
   ]
  },
  {
   "cell_type": "markdown",
   "id": "70612872",
   "metadata": {},
   "source": [
    "# EDA"
   ]
  },
  {
   "cell_type": "markdown",
   "id": "ad0d4ff5",
   "metadata": {},
   "source": [
    "# Data Preparation"
   ]
  },
  {
   "cell_type": "code",
   "execution_count": 3,
   "id": "365916b8",
   "metadata": {},
   "outputs": [
    {
     "data": {
      "text/html": [
       "<div>\n",
       "<style scoped>\n",
       "    .dataframe tbody tr th:only-of-type {\n",
       "        vertical-align: middle;\n",
       "    }\n",
       "\n",
       "    .dataframe tbody tr th {\n",
       "        vertical-align: top;\n",
       "    }\n",
       "\n",
       "    .dataframe thead th {\n",
       "        text-align: right;\n",
       "    }\n",
       "</style>\n",
       "<table border=\"1\" class=\"dataframe\">\n",
       "  <thead>\n",
       "    <tr style=\"text-align: right;\">\n",
       "      <th></th>\n",
       "      <th>rank</th>\n",
       "      <th>inep_code</th>\n",
       "      <th>school</th>\n",
       "      <th>state</th>\n",
       "      <th>city</th>\n",
       "      <th>school_type</th>\n",
       "      <th>location</th>\n",
       "      <th>students</th>\n",
       "      <th>ch</th>\n",
       "      <th>cn</th>\n",
       "      <th>lc</th>\n",
       "      <th>mt</th>\n",
       "      <th>rd</th>\n",
       "      <th>average_exam</th>\n",
       "    </tr>\n",
       "  </thead>\n",
       "  <tbody>\n",
       "    <tr>\n",
       "      <th>0</th>\n",
       "      <td>1</td>\n",
       "      <td>23246847</td>\n",
       "      <td>FARIAS BRITO COLEGIO DE APLICACAO</td>\n",
       "      <td>Ceará</td>\n",
       "      <td>Fortaleza</td>\n",
       "      <td>Privada</td>\n",
       "      <td>Urbana</td>\n",
       "      <td>35</td>\n",
       "      <td>692.85</td>\n",
       "      <td>674.50</td>\n",
       "      <td>652.24</td>\n",
       "      <td>845.89</td>\n",
       "      <td>935.43</td>\n",
       "      <td>760.18</td>\n",
       "    </tr>\n",
       "    <tr>\n",
       "      <th>1</th>\n",
       "      <td>2</td>\n",
       "      <td>23246871</td>\n",
       "      <td>ARI DE SA CAVALCANTE SEDE MARIO MAMEDE COLEGIO</td>\n",
       "      <td>Ceará</td>\n",
       "      <td>Fortaleza</td>\n",
       "      <td>Privada</td>\n",
       "      <td>Urbana</td>\n",
       "      <td>33</td>\n",
       "      <td>695.67</td>\n",
       "      <td>676.34</td>\n",
       "      <td>652.91</td>\n",
       "      <td>836.65</td>\n",
       "      <td>915.15</td>\n",
       "      <td>755.34</td>\n",
       "    </tr>\n",
       "    <tr>\n",
       "      <th>2</th>\n",
       "      <td>3</td>\n",
       "      <td>31350664</td>\n",
       "      <td>COLEGIO BERNOULLI</td>\n",
       "      <td>Minas Gerais</td>\n",
       "      <td>Belo Horizonte</td>\n",
       "      <td>Privada</td>\n",
       "      <td>Urbana</td>\n",
       "      <td>280</td>\n",
       "      <td>681.58</td>\n",
       "      <td>668.20</td>\n",
       "      <td>634.47</td>\n",
       "      <td>823.80</td>\n",
       "      <td>906.64</td>\n",
       "      <td>742.94</td>\n",
       "    </tr>\n",
       "  </tbody>\n",
       "</table>\n",
       "</div>"
      ],
      "text/plain": [
       "   rank  inep_code                                          school  \\\n",
       "0     1   23246847               FARIAS BRITO COLEGIO DE APLICACAO   \n",
       "1     2   23246871  ARI DE SA CAVALCANTE SEDE MARIO MAMEDE COLEGIO   \n",
       "2     3   31350664                               COLEGIO BERNOULLI   \n",
       "\n",
       "          state            city school_type location  students      ch  \\\n",
       "0         Ceará       Fortaleza     Privada   Urbana        35  692.85   \n",
       "1         Ceará       Fortaleza     Privada   Urbana        33  695.67   \n",
       "2  Minas Gerais  Belo Horizonte     Privada   Urbana       280  681.58   \n",
       "\n",
       "       cn      lc      mt      rd  average_exam  \n",
       "0  674.50  652.24  845.89  935.43        760.18  \n",
       "1  676.34  652.91  836.65  915.15        755.34  \n",
       "2  668.20  634.47  823.80  906.64        742.94  "
      ]
     },
     "execution_count": 3,
     "metadata": {},
     "output_type": "execute_result"
    }
   ],
   "source": [
    "# copying df\n",
    "df_preparing = enem.copy()\n",
    "df_preparing.head(3)"
   ]
  },
  {
   "cell_type": "code",
   "execution_count": 4,
   "id": "8f3ffc60",
   "metadata": {},
   "outputs": [
    {
     "data": {
      "text/html": [
       "<div>\n",
       "<style scoped>\n",
       "    .dataframe tbody tr th:only-of-type {\n",
       "        vertical-align: middle;\n",
       "    }\n",
       "\n",
       "    .dataframe tbody tr th {\n",
       "        vertical-align: top;\n",
       "    }\n",
       "\n",
       "    .dataframe thead th {\n",
       "        text-align: right;\n",
       "    }\n",
       "</style>\n",
       "<table border=\"1\" class=\"dataframe\">\n",
       "  <thead>\n",
       "    <tr style=\"text-align: right;\">\n",
       "      <th></th>\n",
       "      <th>state</th>\n",
       "      <th>school_type</th>\n",
       "      <th>location</th>\n",
       "      <th>students</th>\n",
       "      <th>ch</th>\n",
       "      <th>cn</th>\n",
       "      <th>lc</th>\n",
       "      <th>mt</th>\n",
       "      <th>rd</th>\n",
       "      <th>average_exam</th>\n",
       "    </tr>\n",
       "  </thead>\n",
       "  <tbody>\n",
       "    <tr>\n",
       "      <th>0</th>\n",
       "      <td>Ceará</td>\n",
       "      <td>Privada</td>\n",
       "      <td>Urbana</td>\n",
       "      <td>35</td>\n",
       "      <td>692.85</td>\n",
       "      <td>674.50</td>\n",
       "      <td>652.24</td>\n",
       "      <td>845.89</td>\n",
       "      <td>935.43</td>\n",
       "      <td>760.18</td>\n",
       "    </tr>\n",
       "    <tr>\n",
       "      <th>1</th>\n",
       "      <td>Ceará</td>\n",
       "      <td>Privada</td>\n",
       "      <td>Urbana</td>\n",
       "      <td>33</td>\n",
       "      <td>695.67</td>\n",
       "      <td>676.34</td>\n",
       "      <td>652.91</td>\n",
       "      <td>836.65</td>\n",
       "      <td>915.15</td>\n",
       "      <td>755.34</td>\n",
       "    </tr>\n",
       "    <tr>\n",
       "      <th>2</th>\n",
       "      <td>Minas Gerais</td>\n",
       "      <td>Privada</td>\n",
       "      <td>Urbana</td>\n",
       "      <td>280</td>\n",
       "      <td>681.58</td>\n",
       "      <td>668.20</td>\n",
       "      <td>634.47</td>\n",
       "      <td>823.80</td>\n",
       "      <td>906.64</td>\n",
       "      <td>742.94</td>\n",
       "    </tr>\n",
       "  </tbody>\n",
       "</table>\n",
       "</div>"
      ],
      "text/plain": [
       "          state school_type location  students      ch      cn      lc  \\\n",
       "0         Ceará     Privada   Urbana        35  692.85  674.50  652.24   \n",
       "1         Ceará     Privada   Urbana        33  695.67  676.34  652.91   \n",
       "2  Minas Gerais     Privada   Urbana       280  681.58  668.20  634.47   \n",
       "\n",
       "       mt      rd  average_exam  \n",
       "0  845.89  935.43        760.18  \n",
       "1  836.65  915.15        755.34  \n",
       "2  823.80  906.64        742.94  "
      ]
     },
     "execution_count": 4,
     "metadata": {},
     "output_type": "execute_result"
    }
   ],
   "source": [
    "# Dropping unnecessary columns\n",
    "df_preparing.drop([\"rank\", \"inep_code\", 'school', 'city'], axis=1, inplace=True)\n",
    "df_preparing.head(3)"
   ]
  },
  {
   "cell_type": "code",
   "execution_count": 5,
   "id": "ada70665",
   "metadata": {},
   "outputs": [],
   "source": [
    "#designating the region of each state.\n",
    "\n",
    "def sub(x):\n",
    "    \n",
    "    # North\n",
    "    if x == 'Amazonas' or x =='Roraima' or x =='Amapá' or x =='Pará' or x =='Tocantins' or x =='Rondônia' or x =='Acre':\n",
    "        return \"North\"\n",
    "    \n",
    "    # Northeast\n",
    "    elif x == 'Maranhão' or x =='Piauí' or x =='Ceará' or x =='Pernambuco' or x =='Paraíba' or x =='Rio Grande do Norte' or x =='Sergipe' or x =='Alagoas' or x =='Bahia':\n",
    "        return \"Northeast\"\n",
    "    \n",
    "    # Midwest\n",
    "    elif x == 'Mato Grosso' or x =='Mato Grosso do Sul' or x =='Goiás':\n",
    "        return \"Midwest\"\n",
    "    \n",
    "    \n",
    "    # Southeast\n",
    "    elif x == 'São Paulo' or x =='Minas Gerais' or x =='Rio de Janeiro' or x =='Espirito Santo':\n",
    "        return \"Southeast\"\n",
    "    \n",
    "    # South\n",
    "    elif x == 'Paraná' or x =='Rio Grande do Sul' or x =='Santa Catarina':\n",
    "        return \"South\"\n",
    "    \n",
    "    elif x == 'Distrito Federal':\n",
    "        return \"Federal District\""
   ]
  },
  {
   "cell_type": "code",
   "execution_count": 6,
   "id": "f40ec1c3",
   "metadata": {},
   "outputs": [],
   "source": [
    "df_preparing['region'] = df_preparing['state'].apply(lambda x: sub(x))"
   ]
  },
  {
   "cell_type": "code",
   "execution_count": 7,
   "id": "e76cd524",
   "metadata": {},
   "outputs": [
    {
     "data": {
      "text/html": [
       "<div>\n",
       "<style scoped>\n",
       "    .dataframe tbody tr th:only-of-type {\n",
       "        vertical-align: middle;\n",
       "    }\n",
       "\n",
       "    .dataframe tbody tr th {\n",
       "        vertical-align: top;\n",
       "    }\n",
       "\n",
       "    .dataframe thead th {\n",
       "        text-align: right;\n",
       "    }\n",
       "</style>\n",
       "<table border=\"1\" class=\"dataframe\">\n",
       "  <thead>\n",
       "    <tr style=\"text-align: right;\">\n",
       "      <th></th>\n",
       "      <th>state</th>\n",
       "      <th>school_type</th>\n",
       "      <th>location</th>\n",
       "      <th>students</th>\n",
       "      <th>ch</th>\n",
       "      <th>cn</th>\n",
       "      <th>lc</th>\n",
       "      <th>mt</th>\n",
       "      <th>rd</th>\n",
       "      <th>average_exam</th>\n",
       "      <th>region</th>\n",
       "    </tr>\n",
       "  </thead>\n",
       "  <tbody>\n",
       "    <tr>\n",
       "      <th>0</th>\n",
       "      <td>Ceará</td>\n",
       "      <td>Privada</td>\n",
       "      <td>Urbana</td>\n",
       "      <td>35</td>\n",
       "      <td>692.85</td>\n",
       "      <td>674.50</td>\n",
       "      <td>652.24</td>\n",
       "      <td>845.89</td>\n",
       "      <td>935.43</td>\n",
       "      <td>760.18</td>\n",
       "      <td>Northeast</td>\n",
       "    </tr>\n",
       "    <tr>\n",
       "      <th>1</th>\n",
       "      <td>Ceará</td>\n",
       "      <td>Privada</td>\n",
       "      <td>Urbana</td>\n",
       "      <td>33</td>\n",
       "      <td>695.67</td>\n",
       "      <td>676.34</td>\n",
       "      <td>652.91</td>\n",
       "      <td>836.65</td>\n",
       "      <td>915.15</td>\n",
       "      <td>755.34</td>\n",
       "      <td>Northeast</td>\n",
       "    </tr>\n",
       "    <tr>\n",
       "      <th>2</th>\n",
       "      <td>Minas Gerais</td>\n",
       "      <td>Privada</td>\n",
       "      <td>Urbana</td>\n",
       "      <td>280</td>\n",
       "      <td>681.58</td>\n",
       "      <td>668.20</td>\n",
       "      <td>634.47</td>\n",
       "      <td>823.80</td>\n",
       "      <td>906.64</td>\n",
       "      <td>742.94</td>\n",
       "      <td>Southeast</td>\n",
       "    </tr>\n",
       "    <tr>\n",
       "      <th>3</th>\n",
       "      <td>São Paulo</td>\n",
       "      <td>Privada</td>\n",
       "      <td>Urbana</td>\n",
       "      <td>53</td>\n",
       "      <td>677.45</td>\n",
       "      <td>682.90</td>\n",
       "      <td>638.72</td>\n",
       "      <td>836.11</td>\n",
       "      <td>868.68</td>\n",
       "      <td>740.77</td>\n",
       "      <td>Southeast</td>\n",
       "    </tr>\n",
       "    <tr>\n",
       "      <th>4</th>\n",
       "      <td>Minas Gerais</td>\n",
       "      <td>Privada</td>\n",
       "      <td>Urbana</td>\n",
       "      <td>57</td>\n",
       "      <td>666.41</td>\n",
       "      <td>657.87</td>\n",
       "      <td>630.84</td>\n",
       "      <td>809.55</td>\n",
       "      <td>938.95</td>\n",
       "      <td>740.72</td>\n",
       "      <td>Southeast</td>\n",
       "    </tr>\n",
       "    <tr>\n",
       "      <th>...</th>\n",
       "      <td>...</td>\n",
       "      <td>...</td>\n",
       "      <td>...</td>\n",
       "      <td>...</td>\n",
       "      <td>...</td>\n",
       "      <td>...</td>\n",
       "      <td>...</td>\n",
       "      <td>...</td>\n",
       "      <td>...</td>\n",
       "      <td>...</td>\n",
       "      <td>...</td>\n",
       "    </tr>\n",
       "    <tr>\n",
       "      <th>19593</th>\n",
       "      <td>Tocantins</td>\n",
       "      <td>Estadual</td>\n",
       "      <td>Rural</td>\n",
       "      <td>10</td>\n",
       "      <td>423.49</td>\n",
       "      <td>412.24</td>\n",
       "      <td>386.12</td>\n",
       "      <td>449.16</td>\n",
       "      <td>284.00</td>\n",
       "      <td>391.00</td>\n",
       "      <td>North</td>\n",
       "    </tr>\n",
       "    <tr>\n",
       "      <th>19594</th>\n",
       "      <td>Maranhão</td>\n",
       "      <td>Estadual</td>\n",
       "      <td>Urbana</td>\n",
       "      <td>16</td>\n",
       "      <td>439.87</td>\n",
       "      <td>409.58</td>\n",
       "      <td>431.09</td>\n",
       "      <td>411.73</td>\n",
       "      <td>261.25</td>\n",
       "      <td>390.70</td>\n",
       "      <td>Northeast</td>\n",
       "    </tr>\n",
       "    <tr>\n",
       "      <th>19595</th>\n",
       "      <td>Amazonas</td>\n",
       "      <td>Estadual</td>\n",
       "      <td>Rural</td>\n",
       "      <td>56</td>\n",
       "      <td>422.24</td>\n",
       "      <td>407.61</td>\n",
       "      <td>411.16</td>\n",
       "      <td>425.47</td>\n",
       "      <td>241.79</td>\n",
       "      <td>381.65</td>\n",
       "      <td>North</td>\n",
       "    </tr>\n",
       "    <tr>\n",
       "      <th>19596</th>\n",
       "      <td>Amazonas</td>\n",
       "      <td>Estadual</td>\n",
       "      <td>Rural</td>\n",
       "      <td>21</td>\n",
       "      <td>432.40</td>\n",
       "      <td>405.50</td>\n",
       "      <td>377.89</td>\n",
       "      <td>441.75</td>\n",
       "      <td>154.29</td>\n",
       "      <td>362.36</td>\n",
       "      <td>North</td>\n",
       "    </tr>\n",
       "    <tr>\n",
       "      <th>19597</th>\n",
       "      <td>Ceará</td>\n",
       "      <td>Estadual</td>\n",
       "      <td>Urbana</td>\n",
       "      <td>18</td>\n",
       "      <td>421.57</td>\n",
       "      <td>414.88</td>\n",
       "      <td>406.04</td>\n",
       "      <td>420.93</td>\n",
       "      <td>138.89</td>\n",
       "      <td>360.46</td>\n",
       "      <td>Northeast</td>\n",
       "    </tr>\n",
       "  </tbody>\n",
       "</table>\n",
       "<p>19598 rows × 11 columns</p>\n",
       "</div>"
      ],
      "text/plain": [
       "              state school_type location  students      ch      cn      lc  \\\n",
       "0             Ceará     Privada   Urbana        35  692.85  674.50  652.24   \n",
       "1             Ceará     Privada   Urbana        33  695.67  676.34  652.91   \n",
       "2      Minas Gerais     Privada   Urbana       280  681.58  668.20  634.47   \n",
       "3         São Paulo     Privada   Urbana        53  677.45  682.90  638.72   \n",
       "4      Minas Gerais     Privada   Urbana        57  666.41  657.87  630.84   \n",
       "...             ...         ...      ...       ...     ...     ...     ...   \n",
       "19593     Tocantins    Estadual    Rural        10  423.49  412.24  386.12   \n",
       "19594      Maranhão    Estadual   Urbana        16  439.87  409.58  431.09   \n",
       "19595      Amazonas    Estadual    Rural        56  422.24  407.61  411.16   \n",
       "19596      Amazonas    Estadual    Rural        21  432.40  405.50  377.89   \n",
       "19597         Ceará    Estadual   Urbana        18  421.57  414.88  406.04   \n",
       "\n",
       "           mt      rd  average_exam     region  \n",
       "0      845.89  935.43        760.18  Northeast  \n",
       "1      836.65  915.15        755.34  Northeast  \n",
       "2      823.80  906.64        742.94  Southeast  \n",
       "3      836.11  868.68        740.77  Southeast  \n",
       "4      809.55  938.95        740.72  Southeast  \n",
       "...       ...     ...           ...        ...  \n",
       "19593  449.16  284.00        391.00      North  \n",
       "19594  411.73  261.25        390.70  Northeast  \n",
       "19595  425.47  241.79        381.65      North  \n",
       "19596  441.75  154.29        362.36      North  \n",
       "19597  420.93  138.89        360.46  Northeast  \n",
       "\n",
       "[19598 rows x 11 columns]"
      ]
     },
     "execution_count": 7,
     "metadata": {},
     "output_type": "execute_result"
    }
   ],
   "source": [
    "df_preparing"
   ]
  },
  {
   "cell_type": "code",
   "execution_count": 8,
   "id": "6bb487d4",
   "metadata": {},
   "outputs": [
    {
     "data": {
      "text/plain": [
       "array(['Northeast', 'Southeast', 'Federal District', 'Midwest', 'North',\n",
       "       'South'], dtype=object)"
      ]
     },
     "execution_count": 8,
     "metadata": {},
     "output_type": "execute_result"
    }
   ],
   "source": [
    "df_preparing['region'].unique()"
   ]
  },
  {
   "cell_type": "code",
   "execution_count": null,
   "id": "1a012d03",
   "metadata": {},
   "outputs": [],
   "source": []
  },
  {
   "cell_type": "markdown",
   "id": "833f967b",
   "metadata": {},
   "source": [
    "# Unsupervised Learning"
   ]
  },
  {
   "cell_type": "code",
   "execution_count": 9,
   "id": "67e20e84",
   "metadata": {},
   "outputs": [
    {
     "data": {
      "text/html": [
       "<div>\n",
       "<style scoped>\n",
       "    .dataframe tbody tr th:only-of-type {\n",
       "        vertical-align: middle;\n",
       "    }\n",
       "\n",
       "    .dataframe tbody tr th {\n",
       "        vertical-align: top;\n",
       "    }\n",
       "\n",
       "    .dataframe thead th {\n",
       "        text-align: right;\n",
       "    }\n",
       "</style>\n",
       "<table border=\"1\" class=\"dataframe\">\n",
       "  <thead>\n",
       "    <tr style=\"text-align: right;\">\n",
       "      <th></th>\n",
       "      <th>state</th>\n",
       "      <th>school_type</th>\n",
       "      <th>location</th>\n",
       "      <th>students</th>\n",
       "      <th>ch</th>\n",
       "      <th>cn</th>\n",
       "      <th>lc</th>\n",
       "      <th>mt</th>\n",
       "      <th>rd</th>\n",
       "      <th>average_exam</th>\n",
       "      <th>region</th>\n",
       "    </tr>\n",
       "  </thead>\n",
       "  <tbody>\n",
       "    <tr>\n",
       "      <th>0</th>\n",
       "      <td>Ceará</td>\n",
       "      <td>Privada</td>\n",
       "      <td>Urbana</td>\n",
       "      <td>35</td>\n",
       "      <td>692.85</td>\n",
       "      <td>674.50</td>\n",
       "      <td>652.24</td>\n",
       "      <td>845.89</td>\n",
       "      <td>935.43</td>\n",
       "      <td>760.18</td>\n",
       "      <td>Northeast</td>\n",
       "    </tr>\n",
       "    <tr>\n",
       "      <th>1</th>\n",
       "      <td>Ceará</td>\n",
       "      <td>Privada</td>\n",
       "      <td>Urbana</td>\n",
       "      <td>33</td>\n",
       "      <td>695.67</td>\n",
       "      <td>676.34</td>\n",
       "      <td>652.91</td>\n",
       "      <td>836.65</td>\n",
       "      <td>915.15</td>\n",
       "      <td>755.34</td>\n",
       "      <td>Northeast</td>\n",
       "    </tr>\n",
       "  </tbody>\n",
       "</table>\n",
       "</div>"
      ],
      "text/plain": [
       "   state school_type location  students      ch      cn      lc      mt  \\\n",
       "0  Ceará     Privada   Urbana        35  692.85  674.50  652.24  845.89   \n",
       "1  Ceará     Privada   Urbana        33  695.67  676.34  652.91  836.65   \n",
       "\n",
       "       rd  average_exam     region  \n",
       "0  935.43        760.18  Northeast  \n",
       "1  915.15        755.34  Northeast  "
      ]
     },
     "execution_count": 9,
     "metadata": {},
     "output_type": "execute_result"
    }
   ],
   "source": [
    "df_preparing.head(2)"
   ]
  },
  {
   "cell_type": "code",
   "execution_count": 10,
   "id": "454b654e",
   "metadata": {},
   "outputs": [
    {
     "data": {
      "text/html": [
       "<div>\n",
       "<style scoped>\n",
       "    .dataframe tbody tr th:only-of-type {\n",
       "        vertical-align: middle;\n",
       "    }\n",
       "\n",
       "    .dataframe tbody tr th {\n",
       "        vertical-align: top;\n",
       "    }\n",
       "\n",
       "    .dataframe thead th {\n",
       "        text-align: right;\n",
       "    }\n",
       "</style>\n",
       "<table border=\"1\" class=\"dataframe\">\n",
       "  <thead>\n",
       "    <tr style=\"text-align: right;\">\n",
       "      <th></th>\n",
       "      <th>school_type</th>\n",
       "      <th>students</th>\n",
       "      <th>ch</th>\n",
       "      <th>cn</th>\n",
       "      <th>lc</th>\n",
       "      <th>mt</th>\n",
       "      <th>rd</th>\n",
       "    </tr>\n",
       "  </thead>\n",
       "  <tbody>\n",
       "    <tr>\n",
       "      <th>0</th>\n",
       "      <td>Privada</td>\n",
       "      <td>35</td>\n",
       "      <td>692.85</td>\n",
       "      <td>674.50</td>\n",
       "      <td>652.24</td>\n",
       "      <td>845.89</td>\n",
       "      <td>935.43</td>\n",
       "    </tr>\n",
       "    <tr>\n",
       "      <th>1</th>\n",
       "      <td>Privada</td>\n",
       "      <td>33</td>\n",
       "      <td>695.67</td>\n",
       "      <td>676.34</td>\n",
       "      <td>652.91</td>\n",
       "      <td>836.65</td>\n",
       "      <td>915.15</td>\n",
       "    </tr>\n",
       "  </tbody>\n",
       "</table>\n",
       "</div>"
      ],
      "text/plain": [
       "  school_type  students      ch      cn      lc      mt      rd\n",
       "0     Privada        35  692.85  674.50  652.24  845.89  935.43\n",
       "1     Privada        33  695.67  676.34  652.91  836.65  915.15"
      ]
     },
     "execution_count": 10,
     "metadata": {},
     "output_type": "execute_result"
    }
   ],
   "source": [
    "df_school_type = df_preparing.drop(['state', 'location', 'average_exam', 'region'], axis = 1)\n",
    "df_school_type.head(2)"
   ]
  },
  {
   "cell_type": "code",
   "execution_count": 11,
   "id": "4f0ad491",
   "metadata": {},
   "outputs": [],
   "source": [
    "plt.style.use('fivethirtyeight')"
   ]
  },
  {
   "cell_type": "markdown",
   "id": "f80ab4e7",
   "metadata": {},
   "source": [
    "Ploting the Relation between the grades."
   ]
  },
  {
   "cell_type": "code",
   "execution_count": 20,
   "id": "09079385",
   "metadata": {},
   "outputs": [
    {
     "data": {
      "image/png": "[encoded data removed]",
      "text/plain": [
       "<Figure size 1080x504 with 25 Axes>"
      ]
     },
     "metadata": {},
     "output_type": "display_data"
    }
   ],
   "source": [
    "plt.figure(1 , figsize = (15 , 7))\n",
    "n = 0 \n",
    "for x in ['ch' , 'cn' , 'lc', 'mt', 'rd']:\n",
    "    for y in ['ch' , 'cn' , 'lc', 'mt', 'rd']:\n",
    "        n += 1\n",
    "        plt.subplot(5 , 5 , n)\n",
    "        plt.subplots_adjust(hspace = 0.8 , wspace = 0.8)\n",
    "        sns.regplot(x = x , y = y , data = df_school_type)\n",
    "        plt.ylabel(y.split()[0]+' '+y.split()[1] if len(y.split()) > 1 else y )\n",
    "plt.show()\n"
   ]
  },
  {
   "cell_type": "code",
   "execution_count": 13,
   "id": "9ece86e6",
   "metadata": {
    "scrolled": true
   },
   "outputs": [
    {
     "data": {
      "text/html": [
       "<div>\n",
       "<style scoped>\n",
       "    .dataframe tbody tr th:only-of-type {\n",
       "        vertical-align: middle;\n",
       "    }\n",
       "\n",
       "    .dataframe tbody tr th {\n",
       "        vertical-align: top;\n",
       "    }\n",
       "\n",
       "    .dataframe thead th {\n",
       "        text-align: right;\n",
       "    }\n",
       "</style>\n",
       "<table border=\"1\" class=\"dataframe\">\n",
       "  <thead>\n",
       "    <tr style=\"text-align: right;\">\n",
       "      <th></th>\n",
       "      <th>students</th>\n",
       "      <th>ch</th>\n",
       "      <th>cn</th>\n",
       "      <th>lc</th>\n",
       "      <th>mt</th>\n",
       "      <th>rd</th>\n",
       "      <th>average_exam</th>\n",
       "      <th>school_type_Estadual</th>\n",
       "      <th>school_type_Federal</th>\n",
       "      <th>school_type_Municipal</th>\n",
       "      <th>...</th>\n",
       "      <th>state_Piauí</th>\n",
       "      <th>state_Rio Grande do Norte</th>\n",
       "      <th>state_Rio Grande do Sul</th>\n",
       "      <th>state_Rio de Janeiro</th>\n",
       "      <th>state_Rondônia</th>\n",
       "      <th>state_Roraima</th>\n",
       "      <th>state_Santa Catarina</th>\n",
       "      <th>state_Sergipe</th>\n",
       "      <th>state_São Paulo</th>\n",
       "      <th>state_Tocantins</th>\n",
       "    </tr>\n",
       "  </thead>\n",
       "  <tbody>\n",
       "    <tr>\n",
       "      <th>0</th>\n",
       "      <td>35</td>\n",
       "      <td>692.85</td>\n",
       "      <td>674.50</td>\n",
       "      <td>652.24</td>\n",
       "      <td>845.89</td>\n",
       "      <td>935.43</td>\n",
       "      <td>760.18</td>\n",
       "      <td>0</td>\n",
       "      <td>0</td>\n",
       "      <td>0</td>\n",
       "      <td>...</td>\n",
       "      <td>0</td>\n",
       "      <td>0</td>\n",
       "      <td>0</td>\n",
       "      <td>0</td>\n",
       "      <td>0</td>\n",
       "      <td>0</td>\n",
       "      <td>0</td>\n",
       "      <td>0</td>\n",
       "      <td>0</td>\n",
       "      <td>0</td>\n",
       "    </tr>\n",
       "    <tr>\n",
       "      <th>1</th>\n",
       "      <td>33</td>\n",
       "      <td>695.67</td>\n",
       "      <td>676.34</td>\n",
       "      <td>652.91</td>\n",
       "      <td>836.65</td>\n",
       "      <td>915.15</td>\n",
       "      <td>755.34</td>\n",
       "      <td>0</td>\n",
       "      <td>0</td>\n",
       "      <td>0</td>\n",
       "      <td>...</td>\n",
       "      <td>0</td>\n",
       "      <td>0</td>\n",
       "      <td>0</td>\n",
       "      <td>0</td>\n",
       "      <td>0</td>\n",
       "      <td>0</td>\n",
       "      <td>0</td>\n",
       "      <td>0</td>\n",
       "      <td>0</td>\n",
       "      <td>0</td>\n",
       "    </tr>\n",
       "    <tr>\n",
       "      <th>2</th>\n",
       "      <td>280</td>\n",
       "      <td>681.58</td>\n",
       "      <td>668.20</td>\n",
       "      <td>634.47</td>\n",
       "      <td>823.80</td>\n",
       "      <td>906.64</td>\n",
       "      <td>742.94</td>\n",
       "      <td>0</td>\n",
       "      <td>0</td>\n",
       "      <td>0</td>\n",
       "      <td>...</td>\n",
       "      <td>0</td>\n",
       "      <td>0</td>\n",
       "      <td>0</td>\n",
       "      <td>0</td>\n",
       "      <td>0</td>\n",
       "      <td>0</td>\n",
       "      <td>0</td>\n",
       "      <td>0</td>\n",
       "      <td>0</td>\n",
       "      <td>0</td>\n",
       "    </tr>\n",
       "  </tbody>\n",
       "</table>\n",
       "<p>3 rows × 46 columns</p>\n",
       "</div>"
      ],
      "text/plain": [
       "   students      ch      cn      lc      mt      rd  average_exam  \\\n",
       "0        35  692.85  674.50  652.24  845.89  935.43        760.18   \n",
       "1        33  695.67  676.34  652.91  836.65  915.15        755.34   \n",
       "2       280  681.58  668.20  634.47  823.80  906.64        742.94   \n",
       "\n",
       "   school_type_Estadual  school_type_Federal  school_type_Municipal  ...  \\\n",
       "0                     0                    0                      0  ...   \n",
       "1                     0                    0                      0  ...   \n",
       "2                     0                    0                      0  ...   \n",
       "\n",
       "   state_Piauí  state_Rio Grande do Norte  state_Rio Grande do Sul  \\\n",
       "0            0                          0                        0   \n",
       "1            0                          0                        0   \n",
       "2            0                          0                        0   \n",
       "\n",
       "   state_Rio de Janeiro  state_Rondônia  state_Roraima  state_Santa Catarina  \\\n",
       "0                     0               0              0                     0   \n",
       "1                     0               0              0                     0   \n",
       "2                     0               0              0                     0   \n",
       "\n",
       "   state_Sergipe  state_São Paulo  state_Tocantins  \n",
       "0              0                0                0  \n",
       "1              0                0                0  \n",
       "2              0                0                0  \n",
       "\n",
       "[3 rows x 46 columns]"
      ]
     },
     "execution_count": 13,
     "metadata": {},
     "output_type": "execute_result"
    }
   ],
   "source": [
    "# Encoding the categorical variables\n",
    "df_encoded = pd.get_dummies(df_preparing, columns = ['school_type', 'location', 'region','state'])\n",
    "df_encoded.head(3)"
   ]
  },
  {
   "cell_type": "markdown",
   "id": "e0f1d4e8",
   "metadata": {},
   "source": [
    "# KMeans"
   ]
  },
  {
   "cell_type": "code",
   "execution_count": 17,
   "id": "be2023ac",
   "metadata": {},
   "outputs": [],
   "source": [
    "from sklearn.cluster import KMeans"
   ]
  },
  {
   "cell_type": "code",
   "execution_count": 18,
   "id": "4a7db357",
   "metadata": {},
   "outputs": [
    {
     "data": {
      "image/png": "[encoded data removed]",
      "text/plain": [
       "<Figure size 432x288 with 1 Axes>"
      ]
     },
     "metadata": {},
     "output_type": "display_data"
    }
   ],
   "source": [
    "# Load 5 columns\n",
    "x = df_school_type.iloc[:, [2, 3, 4,5, 6]].values\n",
    "\n",
    "wcss = []                  # Declare an array\n",
    "\n",
    "# Set the loop from the minimum and maximum values\n",
    "for i in range(1, 11):\n",
    "    kmeans = KMeans(n_clusters = i, max_iter = 300, n_init = 10, random_state = 0)  # Initialise an object kmeans by calling \n",
    "                                                                                    # an object KMeans()\n",
    "    kmeans.fit(x)                                                                   # Training the model by calling fit() method\n",
    "    wcss.append(kmeans.inertia_)                                                    # Store kmeans.inertia_ in the array wcss\n",
    "# inertia_float: Sum of squared distances of samples to their closest cluster center.\n",
    "\n",
    "# Plotting the results onto a line graph, allowing us to observe 'The elbow'\n",
    "plt.plot(range(1, 11), wcss)\n",
    "plt.title('The elbow method')\n",
    "plt.xlabel('Number of clusters')\n",
    "plt.ylabel('WCSS')    # within cluster sum of squares\n",
    "plt.show()"
   ]
  },
  {
   "cell_type": "code",
   "execution_count": 21,
   "id": "09d765b4",
   "metadata": {},
   "outputs": [
    {
     "data": {
      "text/html": [
       "<div>\n",
       "<style scoped>\n",
       "    .dataframe tbody tr th:only-of-type {\n",
       "        vertical-align: middle;\n",
       "    }\n",
       "\n",
       "    .dataframe tbody tr th {\n",
       "        vertical-align: top;\n",
       "    }\n",
       "\n",
       "    .dataframe thead th {\n",
       "        text-align: right;\n",
       "    }\n",
       "</style>\n",
       "<table border=\"1\" class=\"dataframe\">\n",
       "  <thead>\n",
       "    <tr style=\"text-align: right;\">\n",
       "      <th></th>\n",
       "      <th>students</th>\n",
       "      <th>ch</th>\n",
       "      <th>cn</th>\n",
       "      <th>lc</th>\n",
       "      <th>mt</th>\n",
       "      <th>rd</th>\n",
       "    </tr>\n",
       "  </thead>\n",
       "  <tbody>\n",
       "    <tr>\n",
       "      <th>0</th>\n",
       "      <td>35</td>\n",
       "      <td>692.85</td>\n",
       "      <td>674.50</td>\n",
       "      <td>652.24</td>\n",
       "      <td>845.89</td>\n",
       "      <td>935.43</td>\n",
       "    </tr>\n",
       "    <tr>\n",
       "      <th>1</th>\n",
       "      <td>33</td>\n",
       "      <td>695.67</td>\n",
       "      <td>676.34</td>\n",
       "      <td>652.91</td>\n",
       "      <td>836.65</td>\n",
       "      <td>915.15</td>\n",
       "    </tr>\n",
       "    <tr>\n",
       "      <th>2</th>\n",
       "      <td>280</td>\n",
       "      <td>681.58</td>\n",
       "      <td>668.20</td>\n",
       "      <td>634.47</td>\n",
       "      <td>823.80</td>\n",
       "      <td>906.64</td>\n",
       "    </tr>\n",
       "    <tr>\n",
       "      <th>3</th>\n",
       "      <td>53</td>\n",
       "      <td>677.45</td>\n",
       "      <td>682.90</td>\n",
       "      <td>638.72</td>\n",
       "      <td>836.11</td>\n",
       "      <td>868.68</td>\n",
       "    </tr>\n",
       "    <tr>\n",
       "      <th>4</th>\n",
       "      <td>57</td>\n",
       "      <td>666.41</td>\n",
       "      <td>657.87</td>\n",
       "      <td>630.84</td>\n",
       "      <td>809.55</td>\n",
       "      <td>938.95</td>\n",
       "    </tr>\n",
       "    <tr>\n",
       "      <th>...</th>\n",
       "      <td>...</td>\n",
       "      <td>...</td>\n",
       "      <td>...</td>\n",
       "      <td>...</td>\n",
       "      <td>...</td>\n",
       "      <td>...</td>\n",
       "    </tr>\n",
       "    <tr>\n",
       "      <th>19593</th>\n",
       "      <td>10</td>\n",
       "      <td>423.49</td>\n",
       "      <td>412.24</td>\n",
       "      <td>386.12</td>\n",
       "      <td>449.16</td>\n",
       "      <td>284.00</td>\n",
       "    </tr>\n",
       "    <tr>\n",
       "      <th>19594</th>\n",
       "      <td>16</td>\n",
       "      <td>439.87</td>\n",
       "      <td>409.58</td>\n",
       "      <td>431.09</td>\n",
       "      <td>411.73</td>\n",
       "      <td>261.25</td>\n",
       "    </tr>\n",
       "    <tr>\n",
       "      <th>19595</th>\n",
       "      <td>56</td>\n",
       "      <td>422.24</td>\n",
       "      <td>407.61</td>\n",
       "      <td>411.16</td>\n",
       "      <td>425.47</td>\n",
       "      <td>241.79</td>\n",
       "    </tr>\n",
       "    <tr>\n",
       "      <th>19596</th>\n",
       "      <td>21</td>\n",
       "      <td>432.40</td>\n",
       "      <td>405.50</td>\n",
       "      <td>377.89</td>\n",
       "      <td>441.75</td>\n",
       "      <td>154.29</td>\n",
       "    </tr>\n",
       "    <tr>\n",
       "      <th>19597</th>\n",
       "      <td>18</td>\n",
       "      <td>421.57</td>\n",
       "      <td>414.88</td>\n",
       "      <td>406.04</td>\n",
       "      <td>420.93</td>\n",
       "      <td>138.89</td>\n",
       "    </tr>\n",
       "  </tbody>\n",
       "</table>\n",
       "<p>19598 rows × 6 columns</p>\n",
       "</div>"
      ],
      "text/plain": [
       "       students      ch      cn      lc      mt      rd\n",
       "0            35  692.85  674.50  652.24  845.89  935.43\n",
       "1            33  695.67  676.34  652.91  836.65  915.15\n",
       "2           280  681.58  668.20  634.47  823.80  906.64\n",
       "3            53  677.45  682.90  638.72  836.11  868.68\n",
       "4            57  666.41  657.87  630.84  809.55  938.95\n",
       "...         ...     ...     ...     ...     ...     ...\n",
       "19593        10  423.49  412.24  386.12  449.16  284.00\n",
       "19594        16  439.87  409.58  431.09  411.73  261.25\n",
       "19595        56  422.24  407.61  411.16  425.47  241.79\n",
       "19596        21  432.40  405.50  377.89  441.75  154.29\n",
       "19597        18  421.57  414.88  406.04  420.93  138.89\n",
       "\n",
       "[19598 rows x 6 columns]"
      ]
     },
     "execution_count": 21,
     "metadata": {},
     "output_type": "execute_result"
    }
   ],
   "source": [
    "df_cluster_KMeans = df_school_type.drop('school_type', axis = 1)\n",
    "df_cluster_KMeans"
   ]
  },
  {
   "cell_type": "code",
   "execution_count": null,
   "id": "e7f18c84",
   "metadata": {},
   "outputs": [],
   "source": [
    "from sklearn.cluster import KMeans"
   ]
  },
  {
   "cell_type": "code",
   "execution_count": null,
   "id": "0d2f564f",
   "metadata": {},
   "outputs": [],
   "source": [
    "kmeans = KMeans(n_clusters=2, random_state=0)"
   ]
  },
  {
   "cell_type": "code",
   "execution_count": null,
   "id": "9482775d",
   "metadata": {},
   "outputs": [],
   "source": [
    "kmeans.fit(df_cluster_KMeans)"
   ]
  },
  {
   "cell_type": "code",
   "execution_count": null,
   "id": "56fd1895",
   "metadata": {},
   "outputs": [],
   "source": [
    "kmeans.labels_"
   ]
  },
  {
   "cell_type": "code",
   "execution_count": null,
   "id": "c6521610",
   "metadata": {},
   "outputs": [],
   "source": [
    "df_school_type['cluster_KMeans'] = kmeans.labels_"
   ]
  },
  {
   "cell_type": "code",
   "execution_count": null,
   "id": "067d3b2c",
   "metadata": {},
   "outputs": [],
   "source": [
    "df_school_type"
   ]
  },
  {
   "cell_type": "markdown",
   "id": "4ca881f6",
   "metadata": {},
   "source": [
    "# KMedoids"
   ]
  },
  {
   "cell_type": "code",
   "execution_count": null,
   "id": "4d0bf269",
   "metadata": {},
   "outputs": [],
   "source": [
    "df_cluster_KMedoid = df_school_type.drop(['school_type', 'cluster_KMeans'], axis = 1)\n",
    "df_cluster_KMedoid"
   ]
  },
  {
   "cell_type": "code",
   "execution_count": null,
   "id": "118ea3dc",
   "metadata": {},
   "outputs": [],
   "source": [
    "from sklearn_extra.cluster import KMedoids"
   ]
  },
  {
   "cell_type": "code",
   "execution_count": null,
   "id": "eadd99b0",
   "metadata": {},
   "outputs": [],
   "source": [
    "kmedoids = KMedoids(n_clusters=2, random_state=0).fit(df_cluster_KMedoid)"
   ]
  },
  {
   "cell_type": "code",
   "execution_count": null,
   "id": "81e8d11e",
   "metadata": {},
   "outputs": [],
   "source": [
    "kmedoids.labels_"
   ]
  },
  {
   "cell_type": "code",
   "execution_count": null,
   "id": "98bd4554",
   "metadata": {},
   "outputs": [],
   "source": [
    "df_school_type['cluster_KMedoids'] = kmedoids.labels_\n",
    "df_school_type"
   ]
  },
  {
   "cell_type": "markdown",
   "id": "1a212c08",
   "metadata": {},
   "source": [
    "# Comparinng"
   ]
  },
  {
   "cell_type": "markdown",
   "id": "ab207be8",
   "metadata": {},
   "source": [
    "### Original"
   ]
  },
  {
   "cell_type": "code",
   "execution_count": null,
   "id": "cf0578c5",
   "metadata": {},
   "outputs": [],
   "source": [
    "df_school_type = df_school_type.reindex(['students', 'ch', 'cn', 'lc', 'mt', 'rd', 'school_type', 'cluster_KMeans', 'cluster_KMedoids' ], axis=1)"
   ]
  },
  {
   "cell_type": "code",
   "execution_count": null,
   "id": "f3987f46",
   "metadata": {},
   "outputs": [],
   "source": [
    "df_school_type.head(2)"
   ]
  },
  {
   "cell_type": "code",
   "execution_count": null,
   "id": "821a46bc",
   "metadata": {},
   "outputs": [],
   "source": [
    "sns.pairplot(df_school_type, hue='school_type')"
   ]
  },
  {
   "cell_type": "markdown",
   "id": "f3f78ae6",
   "metadata": {},
   "source": [
    "### KMeans"
   ]
  },
  {
   "cell_type": "code",
   "execution_count": null,
   "id": "0bc361e3",
   "metadata": {},
   "outputs": [],
   "source": [
    "sns.pairplot(df_school_type, hue='cluster_KMeans')"
   ]
  },
  {
   "cell_type": "markdown",
   "id": "453a52ce",
   "metadata": {},
   "source": [
    "### KMedoid"
   ]
  },
  {
   "cell_type": "code",
   "execution_count": null,
   "id": "ce488059",
   "metadata": {},
   "outputs": [],
   "source": [
    "sns.pairplot(df_school_type, hue='cluster_KMedoids')"
   ]
  },
  {
   "cell_type": "markdown",
   "id": "52a0224b",
   "metadata": {},
   "source": [
    "# Supervised Learning"
   ]
  },
  {
   "cell_type": "markdown",
   "id": "7ec1a10a",
   "metadata": {},
   "source": [
    "### Encoding"
   ]
  },
  {
   "cell_type": "code",
   "execution_count": null,
   "id": "b2815976",
   "metadata": {},
   "outputs": [],
   "source": [
    "df_preparing.head(2)"
   ]
  },
  {
   "cell_type": "code",
   "execution_count": null,
   "id": "e7c5e21d",
   "metadata": {},
   "outputs": [],
   "source": [
    "# Encoding the categorical variables\n",
    "df_encoded = pd.get_dummies(df_preparing, columns = ['school_type', 'location', 'region'])\n",
    "df_encoded.head(3)"
   ]
  },
  {
   "cell_type": "code",
   "execution_count": null,
   "id": "652cda7c",
   "metadata": {},
   "outputs": [],
   "source": [
    "df_encoded = df_encoded.drop(['state', 'average_exam'], axis=1)"
   ]
  },
  {
   "cell_type": "markdown",
   "id": "79a8fff8",
   "metadata": {},
   "source": [
    "### Correlation Analysis"
   ]
  },
  {
   "cell_type": "code",
   "execution_count": null,
   "id": "f2428865",
   "metadata": {},
   "outputs": [],
   "source": [
    "# Checking variables' relation\n",
    "f, ax = plt.subplots(1, 1, figsize=(10, 10))\n",
    "ax = sns.heatmap(df_preparing.corr(method='pearson'), vmin=-1, vmax=1, annot=True, cmap='Blues').set(title='Heatmap - Entire dataset')"
   ]
  },
  {
   "cell_type": "code",
   "execution_count": null,
   "id": "4477f016",
   "metadata": {},
   "outputs": [],
   "source": [
    "# Checking variables' relation\n",
    "f, ax = plt.subplots(1, 1, figsize=(10, 10))\n",
    "ax = sns.heatmap(df_encoded.corr(method='pearson'), vmin=-1, vmax=1, annot=True, cmap='Blues').set(title='Heatmap - Entire dataset')"
   ]
  },
  {
   "cell_type": "markdown",
   "id": "cb26cb00",
   "metadata": {},
   "source": [
    "# Models"
   ]
  },
  {
   "cell_type": "code",
   "execution_count": null,
   "id": "cce7e1d7",
   "metadata": {},
   "outputs": [],
   "source": [
    "# Spliting the dataset\n",
    "from sklearn.model_selection import train_test_split\n",
    "X = df_encoded.drop('rd', axis=1)\n",
    "y = df_encoded['rd']\n",
    "X_train, X_test, y_train, y_test = train_test_split(X, y, test_size=0.20, random_state=0)\n",
    "\n",
    "\n"
   ]
  },
  {
   "cell_type": "code",
   "execution_count": null,
   "id": "7cebce4f",
   "metadata": {},
   "outputs": [],
   "source": [
    "X_train"
   ]
  },
  {
   "cell_type": "code",
   "execution_count": null,
   "id": "6eaab824",
   "metadata": {},
   "outputs": [],
   "source": [
    "# X_train= X_train.reshape(-1, 1)\n",
    "# X_test = X_test.reshape(-1, 1)"
   ]
  },
  {
   "cell_type": "code",
   "execution_count": null,
   "id": "d1415eff",
   "metadata": {},
   "outputs": [],
   "source": [
    "from sklearn.linear_model import LinearRegression\n",
    "\n",
    "\n",
    "# Training the model on the Training set\n",
    "regressor_LR = LinearRegression()\n",
    "regressor_LR.fit(X_train, y_train)"
   ]
  },
  {
   "cell_type": "markdown",
   "id": "b42bedbb",
   "metadata": {},
   "source": [
    "### Precision"
   ]
  },
  {
   "cell_type": "code",
   "execution_count": null,
   "id": "c823017a",
   "metadata": {},
   "outputs": [],
   "source": [
    "# Precision of the model - Train set\n",
    "print('The precision of the model is ')\n",
    "print(regressor_LR.score(X_train, y_train))"
   ]
  },
  {
   "cell_type": "code",
   "execution_count": null,
   "id": "f0452c0b",
   "metadata": {},
   "outputs": [],
   "source": [
    "# Precision of the model - Test set\n",
    "y_pred = regressor_LR.predict(X_test)\n",
    "\n",
    "R_square = r2_score(y_test,y_pred) \n",
    "print('Coefficient of Determination', R_square)"
   ]
  },
  {
   "cell_type": "code",
   "execution_count": null,
   "id": "fafda166",
   "metadata": {},
   "outputs": [],
   "source": []
  },
  {
   "cell_type": "code",
   "execution_count": null,
   "id": "82b82168",
   "metadata": {},
   "outputs": [],
   "source": []
  },
  {
   "cell_type": "code",
   "execution_count": null,
   "id": "778cf344",
   "metadata": {},
   "outputs": [],
   "source": []
  }
 ],
 "metadata": {
  "kernelspec": {
   "display_name": "Python 3 (ipykernel)",
   "language": "python",
   "name": "python3"
  },
  "language_info": {
   "codemirror_mode": {
    "name": "ipython",
    "version": 3
   },
   "file_extension": ".py",
   "mimetype": "text/x-python",
   "name": "python",
   "nbconvert_exporter": "python",
   "pygments_lexer": "ipython3",
   "version": "3.9.7"
  },
  "toc": {
   "base_numbering": 1,
   "nav_menu": {},
   "number_sections": false,
   "sideBar": true,
   "skip_h1_title": false,
   "title_cell": "Table of Contents",
   "title_sidebar": "Contents",
   "toc_cell": false,
   "toc_position": {
    "height": "calc(100% - 180px)",
    "left": "10px",
    "top": "150px",
    "width": "165px"
   },
   "toc_section_display": true,
   "toc_window_display": true
  }
 },
 "nbformat": 4,
 "nbformat_minor": 5
}
